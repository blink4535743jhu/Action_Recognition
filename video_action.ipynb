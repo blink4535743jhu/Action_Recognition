{
  "nbformat": 4,
  "nbformat_minor": 0,
  "metadata": {
    "colab": {
      "provenance": [],
      "collapsed_sections": [
        "QAMFF3E9S8LZ",
        "27jFCIOmtzPY",
        "w6vEptdot5bh",
        "a6jUwD_-t8aW",
        "UStqMIJbV_A8"
      ],
      "machine_shape": "hm",
      "gpuType": "T4"
    },
    "kernelspec": {
      "name": "python3",
      "display_name": "Python 3"
    },
    "language_info": {
      "name": "python"
    },
    "accelerator": "GPU"
  },
  "cells": [
    {
      "cell_type": "markdown",
      "source": [
        "# Assignment 4: Action Recognition\n",
        "\n",
        "**Author:** Brandon Link\n",
        "**Date:** July 19, 2025  \n",
        "**Course:** Deep Learning Developments with PyTorch\n",
        "**Institution:** Johns Hopkins University\n",
        "\n",
        "---\n",
        "\n",
        "## Assignment Description\n",
        "\n",
        "In this project, we apply the Long-term Recurrent Convolutional Network (LRCN) to solve an action detection task on the UCF50 - Action Recognition Data Set. The notebook includes:\n",
        "\n",
        "- Download and Dataset loading from the UCF50 - Action Recognition Data Set\n",
        "- Preprocessing of the data into 16 frame clips\n",
        "- Datasets and dataloaders for the Train, Validation and Test splits\n",
        "- Training and testing loops with accuracy tracking\n",
        "- Results generation of precision, recall, F1 score and confusion matrix\n",
        "- Result discussion and insights relevant to the accompanying LaTeX report\n",
        "\n",
        "Refer to the \"README\" in the downloaded repository after step 0a for detailed directions on how to use the repository's code. The README largely follows execution of code in this Google Colab notebook."
      ],
      "metadata": {
        "id": "fVpcfZYkUclc"
      }
    },
    {
      "cell_type": "markdown",
      "source": [
        "## **0. Repository and Data Download**"
      ],
      "metadata": {
        "id": "QAMFF3E9S8LZ"
      }
    },
    {
      "cell_type": "code",
      "source": [
        "#@title 0a. Clone Repository / install required libraries\n",
        "\n",
        "\"\"\"\n",
        "Clones required code for this notebook into the /content folder, under a sub-folder \"Action_Recognition\"\n",
        "and changes the notebook's directory to execute from the \"Action_Recognition\" folder.\n",
        "Installs required libraries using pip.\n",
        "\"\"\"\n",
        "\n",
        "!git clone https://github.com/blink4535743jhu/Action_Recognition\n",
        "%cd Action_Recognition\n",
        "%pip install -qr requirements.txt"
      ],
      "metadata": {
        "id": "SKLFMTC0TwCp"
      },
      "execution_count": null,
      "outputs": []
    },
    {
      "cell_type": "code",
      "source": [
        "#@title 0b. Download .rar file\n",
        "\n",
        "\"\"\"\n",
        "Downloads the UCF50 .rar file directly from its website.\n",
        "Ensure file is downloaded to the /content/Action_Recognition folder.\n",
        "\"\"\"\n",
        "\n",
        "!wget --no-check-certificate https://www.crcv.ucf.edu/data/UCF50.rar"
      ],
      "metadata": {
        "id": "eHKAl2yMLP8Z"
      },
      "execution_count": null,
      "outputs": []
    },
    {
      "cell_type": "code",
      "source": [
        "#@title 0c. Unzip .rar file\n",
        "\n",
        "\"\"\"\n",
        "#Extracts .rar file to respective folders within the Action_Recognition Folder\n",
        "#Recall %cd command changed directory earlier to Action_Recognition\n",
        "Path of .rar file should be /content/Action_Recognition/UCF50.rar\n",
        "\"\"\"\n",
        "\n",
        "!apt-get install unrar\n",
        "!unrar x UCF50.rar"
      ],
      "metadata": {
        "id": "_j__gURnRZ9S"
      },
      "execution_count": null,
      "outputs": []
    },
    {
      "cell_type": "markdown",
      "source": [
        "## **1. Data Preprocessing**"
      ],
      "metadata": {
        "id": "27jFCIOmtzPY"
      }
    },
    {
      "cell_type": "code",
      "source": [
        "# @title 1. Run preprocess.py\n",
        "\n",
        "\"\"\"\n",
        "Pre-processes video frames by extracting 16 frames per video clip into independent\n",
        "image folders.\n",
        "Following run cell, folder structure should look as follows:\n",
        "/content/Action_Recognition/Preprocessed_UCF50/BaseballPitch/v_BaseballPitch_g01_c01\n",
        "\"\"\"\n",
        "\n",
        "!python preprocess.py \\\n",
        "  --input_dir \"/content/Action_Recognition/UCF50\" \\\n",
        "  --output_dir \"/content/Preprocessed_UCF50\" \\\n",
        "  --num_frames 16"
      ],
      "metadata": {
        "id": "Q9yQ_L9U7cMB"
      },
      "execution_count": null,
      "outputs": []
    },
    {
      "cell_type": "markdown",
      "source": [
        "## **2. Training**"
      ],
      "metadata": {
        "id": "w6vEptdot5bh"
      }
    },
    {
      "cell_type": "code",
      "source": [
        "# @title 2. Training Model\n",
        "\n",
        "\"\"\"\n",
        "Trains the model for 30 epochs, updating best model weights.\n",
        "Weights should output to \"/content/Action_Recognition/models/best_model_weights.pt\".\n",
        "\"\"\"\n",
        "\n",
        "!bash train.sh"
      ],
      "metadata": {
        "id": "Pk0i16Ny3fHp"
      },
      "execution_count": null,
      "outputs": []
    },
    {
      "cell_type": "markdown",
      "source": [
        "## **3. Testing**"
      ],
      "metadata": {
        "id": "a6jUwD_-t8aW"
      }
    },
    {
      "cell_type": "code",
      "source": [
        "# @title 3. Testing model weights\n",
        "\n",
        "\"\"\"\n",
        "Executes test.sh, which switches model to \"eval\" mode,\n",
        "tests the best weights on the test dataset, and reports\n",
        "multi-class precision, recall, F1 score and confusion matrix.\n",
        "\"\"\"\n",
        "\n",
        "!bash test.sh"
      ],
      "metadata": {
        "id": "HylGnqQd5elk"
      },
      "execution_count": null,
      "outputs": []
    },
    {
      "cell_type": "markdown",
      "source": [
        "## **4. Conclusion**"
      ],
      "metadata": {
        "id": "UStqMIJbV_A8"
      }
    },
    {
      "cell_type": "markdown",
      "source": [
        "This notebook successfully demonstrates action detection using the  LRCN model and UCF50 dataset. Reporting of these results are detailed in the associated Overleaf / Latex report file, attached with this document."
      ],
      "metadata": {
        "id": "YGC002lMU1IR"
      }
    }
  ]
}